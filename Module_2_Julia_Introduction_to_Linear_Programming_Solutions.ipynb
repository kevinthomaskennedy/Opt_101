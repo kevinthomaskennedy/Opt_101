{
 "cells": [
  {
   "cell_type": "code",
   "execution_count": null,
   "metadata": {},
   "outputs": [],
   "source": []
  },
  {
   "cell_type": "markdown",
   "metadata": {},
   "source": [
    "# Introduction to Linear Programming (Solutions)"
   ]
  },
  {
   "cell_type": "markdown",
   "metadata": {},
   "source": [
    "#### Warmup"
   ]
  },
  {
   "cell_type": "markdown",
   "metadata": {},
   "source": [
    "Using Gurobi, solve the following problem:  \n",
    "    max $\\; x+y+z$  \n",
    "    s.t.  \n",
    "    $x+y \\leq 10$  \n",
    "    $y + 3z \\leq 2x$  \n",
    "    $3x + 2y + z \\leq 20$  \n",
    "    $x, y, z \\geq 0$  "
   ]
  },
  {
   "cell_type": "code",
   "execution_count": 4,
   "metadata": {},
   "outputs": [
    {
     "name": "stdout",
     "output_type": "stream",
     "text": [
      "Gurobi Optimizer version 9.0.2 build v9.0.2rc0 (win64)\n",
      "Optimize a model with 3 rows, 3 columns and 8 nonzeros\n",
      "Model fingerprint: 0x29e5e92d\n",
      "Coefficient statistics:\n",
      "  Matrix range     [1e+00, 3e+00]\n",
      "  Objective range  [1e+00, 1e+00]\n",
      "  Bounds range     [0e+00, 0e+00]\n",
      "  RHS range        [1e+01, 2e+01]\n",
      "Presolve time: 0.00s\n",
      "Presolved: 3 rows, 3 columns, 8 nonzeros\n",
      "\n",
      "Iteration    Objective       Primal Inf.    Dual Inf.      Time\n",
      "       0    3.0000000e+30   4.000000e+30   3.000000e+00      0s\n",
      "       4    9.0909091e+00   0.000000e+00   0.000000e+00      0s\n",
      "\n",
      "Solved in 4 iterations and 0.00 seconds\n",
      "Optimal objective  9.090909091e+00\n",
      "{0: <gurobi.Var C0 (value 5.454545454545455)>, 1: <gurobi.Var C1 (value 0.0)>, 2: <gurobi.Var C2 (value 3.6363636363636367)>}\n",
      "\n",
      "Compute Server communication statistics:\n",
      "  Sent: 0.003 MBytes in 20 msgs and 1.95s (0.00 MB/s)\n",
      "  Received: 0.002 MBytes in 6 msgs and 0.56s (0.00 MB/s)\n",
      "\n"
     ]
    }
   ],
   "source": [
    "import gurobipy as grb\n",
    "\n",
    "env = grb.Env.ClientEnv(\"gurobi.log\",\n",
    "                        \"10.116.90.112\")\n",
    "model = grb.Model(\"LP_Warmup\", env)\n",
    "\n",
    "x = model.addVars(3, lb=0)\n",
    "\n",
    "model.setObjective(x[0] + x[1] + x[2], grb.GRB.MAXIMIZE)\n",
    "\n",
    "constr1 = model.addConstr(x[0] + x[1] <= 10)\n",
    "constr2 = model.addConstr(x[1] + 3*x[2] <= 2*x[0])\n",
    "constr3 = model.addConstr(3*x[0] + 2*x[1] + x[2] <= 20)\n",
    "\n",
    "model.optimize()\n",
    "\n",
    "print(x)\n",
    "\n",
    "del model\n",
    "del env"
   ]
  },
  {
   "cell_type": "code",
   "execution_count": null,
   "metadata": {},
   "outputs": [],
   "source": []
  },
  {
   "cell_type": "markdown",
   "metadata": {},
   "source": [
    "#### RunDisney Example"
   ]
  },
  {
   "cell_type": "code",
   "execution_count": 5,
   "metadata": {},
   "outputs": [
    {
     "name": "stdout",
     "output_type": "stream",
     "text": [
      "Gurobi Optimizer version 9.0.2 build v9.0.2rc0 (win64)\n",
      "Optimize a model with 16 rows, 6 columns and 22 nonzeros\n",
      "Model fingerprint: 0x92b19ae0\n",
      "Coefficient statistics:\n",
      "  Matrix range     [1e+00, 1e+00]\n",
      "  Objective range  [8e+01, 6e+02]\n",
      "  Bounds range     [0e+00, 0e+00]\n",
      "  RHS range        [2e+03, 2e+04]\n",
      "Presolve removed 13 rows and 1 columns\n",
      "Presolve time: 0.00s\n",
      "Presolved: 3 rows, 5 columns, 8 nonzeros\n",
      "\n",
      "Iteration    Objective       Primal Inf.    Dual Inf.      Time\n",
      "       0    1.4074885e+07   1.678625e+03   0.000000e+00      0s\n",
      "       2    1.2197500e+07   0.000000e+00   0.000000e+00      0s\n",
      "\n",
      "Solved in 2 iterations and 0.00 seconds\n",
      "Optimal objective  1.219750000e+07\n",
      "          Price  Demand  Min_Spots  opt_spots\n",
      "Product                                      \n",
      "5K           80   15692      10000    11896.0\n",
      "10K         120   11896       7000    11896.0\n",
      "Half        180   18175       5000    17604.0\n",
      "Marathon    190   17604       5000    17604.0\n",
      "Goofy       365    4325       2000     4292.0\n",
      "Dopey       560    5349       2000     3104.0\n",
      "\n",
      "Compute Server communication statistics:\n",
      "  Sent: 0.003 MBytes in 18 msgs and 1.67s (0.00 MB/s)\n",
      "  Received: 0.002 MBytes in 6 msgs and 0.56s (0.00 MB/s)\n",
      "\n"
     ]
    }
   ],
   "source": [
    "import gurobipy as grb\n",
    "import pandas as pd\n",
    "\n",
    "# Input Data \n",
    "# Product Information\n",
    "prod_df = pd.DataFrame({\n",
    "    'Product': ['5K', '10K', 'Half', 'Marathon', 'Goofy', 'Dopey'],\n",
    "    'Price': [80, 120, 180, 190, 365, 560],\n",
    "    'Demand': [15692, 11896, 18175, 17604, 4325, 5349],\n",
    "    'Min_Spots': [10000, 7000, 5000, 5000, 2000, 2000],\n",
    "})\n",
    "\n",
    "prod_df.set_index('Product', inplace=True)\n",
    "prod_list = prod_df.index.values\n",
    "\n",
    "# Resource Information\n",
    "res_df = pd.DataFrame({\n",
    "    'Resource': ['5K', '10K', 'Half', 'Marathon'],\n",
    "    'Capacity': [15000, 15000, 25000, 25000],\n",
    "    'Products': [['5K', 'Dopey'], ['10K', 'Dopey'], \n",
    "                 ['Half', 'Goofy', 'Dopey'], ['Marathon', 'Goofy', 'Dopey']],\n",
    "})\n",
    "\n",
    "res_df.set_index('Resource', inplace=True)\n",
    "res_list = res_df.index.values\n",
    "\n",
    "# Connect to environment and build model\n",
    "env = grb.Env.ClientEnv(\"gurobi.log\",\n",
    "                        \"10.116.90.112\")\n",
    "model = grb.Model(\"Marathon\", env)\n",
    "\n",
    "# Create a decision variable: the number of spots to make available for registration for each of the six products.\n",
    "spots = model.addVars(prod_list, lb=0)\n",
    "\n",
    "# Build the objective\n",
    "exp_rev = grb.quicksum( \n",
    "    spots[prod]*prod_df['Price'][prod] for prod in prod_list )\n",
    "\n",
    "total_exp_rev = model.setObjective(exp_rev, grb.GRB.MAXIMIZE)\n",
    "\n",
    "# Allow no more spots than expected demand. \n",
    "# For purposes here, we assume opening any more spots will not lead to any more bookings\n",
    "demand_constraint = model.addConstrs((spots[prod] <= prod_df['Demand'][prod] for prod in prod_list), \n",
    "                                     'demand_constraint')\n",
    "\n",
    "# Adhere to the minimum value constraints.\n",
    "min_spot_constraint = model.addConstrs((spots[prod] >= prod_df['Min_Spots'][prod] for prod in prod_list), \n",
    "                                       'min_spot_constraint')\n",
    "\n",
    "# Capacity constraints for each resource\n",
    "capacity_constraint = model.addConstrs((grb.quicksum(spots[prod] for prod in res_df['Products'][res]) \n",
    "                                        <= res_df['Capacity'][res] for res in res_list), \n",
    "                                       'capacity_constraint')\n",
    "\n",
    "model.optimize()\n",
    "\n",
    "# Generate output as a data frame\n",
    "spots_values = model.getAttr('x',spots)\n",
    "prod_df['opt_spots'] = pd.Series(spots_values)\n",
    "\n",
    "print(prod_df)\n",
    "\n",
    "del model\n",
    "del env"
   ]
  },
  {
   "cell_type": "code",
   "execution_count": null,
   "metadata": {},
   "outputs": [],
   "source": []
  }
 ],
 "metadata": {
  "kernelspec": {
   "display_name": "Python 3 (ipykernel)",
   "language": "python",
   "name": "python3"
  },
  "language_info": {
   "codemirror_mode": {
    "name": "ipython",
    "version": 3
   },
   "file_extension": ".py",
   "mimetype": "text/x-python",
   "name": "python",
   "nbconvert_exporter": "python",
   "pygments_lexer": "ipython3",
   "version": "3.8.13"
  }
 },
 "nbformat": 4,
 "nbformat_minor": 2
}
