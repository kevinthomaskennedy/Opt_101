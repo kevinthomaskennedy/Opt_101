{
 "cells": [
  {
   "cell_type": "markdown",
   "metadata": {},
   "source": [
    "# Introduction to Mathematical Programming with Julia"
   ]
  },
  {
   "cell_type": "markdown",
   "metadata": {},
   "source": [
    "### Goals\n",
    "\n",
    "- Be able to read and comprehend mathematical formulations.\n",
    "- Be able to read and understand code for optimization solvers, and Gurobi in particular.\n",
    "- Be able to run/maintain/debug/modify existing solutions.\n",
    "- Better understand the interplay between predictive modeling and optimization. \n",
    "\n",
    "This series will focus on modeling, and **not** the underlying optimization algorithms. "
   ]
  },
  {
   "cell_type": "markdown",
   "metadata": {},
   "source": [
    "#### Syllabus\n",
    "\n",
    "Module 1: Introduction to Mathematical Programming  \n",
    "Module 2: Linear Programming  \n",
    "Module 3: Integer Programming  \n",
    "Module 4: Constraints  \n",
    "Module 5: Disney Example(s)  \n",
    "Module 6: Modeling Pitfalls  \n",
    "\n",
    "Each Module is expected to take 1-2 weeks. There will be no expectations to do any work outside of the weekly sessions. If you miss any weeks, modules will be available on GitLab."
   ]
  },
  {
   "cell_type": "markdown",
   "metadata": {},
   "source": [
    "### Mathematical Programming"
   ]
  },
  {
   "cell_type": "markdown",
   "metadata": {},
   "source": [
    "Finding the best solution, according to some objective, from a set of possible solutions."
   ]
  },
  {
   "cell_type": "markdown",
   "metadata": {},
   "source": [
    "**Decision Variables**: Quantifiable decisions to be made.\n",
    "\n",
    "Examples:\n",
    " - What price to charge?\n",
    " - What inventory to withhold?\n",
    " - What route to take?\n",
    " - What product to offer to a guest?"
   ]
  },
  {
   "cell_type": "markdown",
   "metadata": {},
   "source": [
    "**Objective Function**: An appropriate measure of performance that we are trying to optimize.\n",
    "\n",
    "Examples:\n",
    " - Maximize revenue.\n",
    " - Minimize number of walks (moving guests due to overbooking).\n",
    " - Minimize travel time.\n",
    " - Maximize bookings."
   ]
  },
  {
   "cell_type": "markdown",
   "metadata": {},
   "source": [
    "**Constraints/Feasible Set**: Any restriction on the values that can be assigned to the decision variables. Defines the set of possible values that may be considered for the solution.\n",
    "\n",
    "Examples:\n",
    " - Price for 2-day tickets must be greater than 1-day tickets.\n",
    " - Do not sell more items than exist in inventory.\n",
    " - Do not travel through walls or barriers.\n",
    " - Do not offer *Disney Junior - Live on Stage* recommendation to a guest party without children."
   ]
  },
  {
   "cell_type": "markdown",
   "metadata": {
    "heading_collapsed": true
   },
   "source": [
    "### Typical Representation of a Mathematical Program\n",
    "\n",
    "$\\text{max}_{x} \\; f(x)$  \n",
    "$\\text{s.t.} \\; h_{i}(x) \\leq b_{i}, \\; \\forall i = 1, ..., m$  \n",
    "  \n",
    "$x$ : Decision Variables  \n",
    "$f(.)$ : Objective Function  \n",
    "$h(.) \\leq b$ : Constraints  "
   ]
  },
  {
   "cell_type": "markdown",
   "metadata": {},
   "source": [
    "### Type of Solutions for a Linear Program"
   ]
  },
  {
   "cell_type": "markdown",
   "metadata": {},
   "source": [
    "The feasible region is the set of all possible values of the decision variables such that the constraints are satisfied. \n",
    "Our goal is to find the values from this space that optimize the objective function. \n",
    "The feasible region may be empty, and hence no solution exists, or there may be multiple valid solutions that optimize the objective."
   ]
  },
  {
   "cell_type": "markdown",
   "metadata": {},
   "source": [
    "A linear program is a special kind of mathematical program where the objective function, $f(x)$, and the constraint functions, $h_{i}(x)$, are affine ($f(x) = c'x + d$). "
   ]
  },
  {
   "cell_type": "markdown",
   "metadata": {},
   "source": [
    "The kinds of solutions are a linear program are below; other kinds of mathematical programs might have other kinds of solution spaces."
   ]
  },
  {
   "cell_type": "markdown",
   "metadata": {},
   "source": [
    "**Optimal**:  \n",
    "\n",
    "$\\text{max} \\; x + y$  \n",
    "s.t.  \n",
    "$2x + y \\leq 3$  \n",
    "$x + 3y \\leq 2$  \n",
    "$x \\geq 0, \\; y \\geq 0$  \n",
    "\n",
    "$\\rightarrow \\; x = 1.4, \\; y = 0.2$\n"
   ]
  },
  {
   "cell_type": "markdown",
   "metadata": {},
   "source": [
    "$~$  \n",
    "**Infeasible**:  \n",
    "\n",
    "$\\text{max} \\; x + y$  \n",
    "s.t.  \n",
    "$2x + y \\leq 1$  \n",
    "$2x + y \\geq 2$  \n",
    "$x \\geq 0, \\; y \\geq 0$  \n",
    "\n",
    "$\\rightarrow \\; :($\n"
   ]
  },
  {
   "cell_type": "markdown",
   "metadata": {},
   "source": [
    "$~$  \n",
    "**Unbounded**:  \n",
    "\n",
    "$\\text{max} \\; x + y$  \n",
    "s.t.  \n",
    "$x \\geq 0, \\; y \\geq 0$  \n",
    "\n",
    "$\\rightarrow \\; x = \\infty, \\; y = \\infty$\n"
   ]
  },
  {
   "cell_type": "markdown",
   "metadata": {},
   "source": [
    "$~$  \n",
    "**Multiple Optimal Solutions**:  \n",
    "\n",
    "$\\text{max} \\; x + y$  \n",
    "s.t.  \n",
    "$2x + y \\leq 2$  \n",
    "$x + y \\leq 1.2$  \n",
    "$x + 2y \\leq 2$  \n",
    "$x \\geq 0, \\; y \\geq 0$  \n",
    "\n",
    "$\\rightarrow \\; (x = 0.8, \\; y = 0.4) \\; \\text{or} \\; (x = 0.4, \\; y = 0.8)$\n"
   ]
  },
  {
   "cell_type": "markdown",
   "metadata": {},
   "source": [
    "### Example: Diet Problem"
   ]
  },
  {
   "cell_type": "markdown",
   "metadata": {},
   "source": [
    "[Source](http://www.gurobi.com/documentation/8.1/examples/diet_py.html)\n",
    "\n",
    "Nutritional guidelines suggest that we consume between 1800 and 2200 calories worth of food each day. Furthermore, they suggest at least 91g of protein, and no more than 65g of fat or 1779mg of sodium. How can we meet these guidelines while spending as little money as possible?"
   ]
  },
  {
   "cell_type": "markdown",
   "metadata": {},
   "source": [
    "Our only source of food is the Team Disney cafe, which now only serves hamburgers, chicken, hot dogs, fries, macaroni, pizza, salad, milk, and ice cream.  The cost and nutritional value is as follows:\n",
    "\n",
    "|      Food | Cost | Calories | Protein | Fat | Sodium |  \n",
    "| --------- | ---- | -------- | ------- | --- | ------ |  \n",
    "| Hamburger | 2.49 |      410 |      24 |  26 |    730 |  \n",
    "|   Chicken | 2.89 |      420 |      32 |  10 |   1190 |  \n",
    "|   Hot Dog | 1.50 |      560 |      20 |  32 |   1800 |  \n",
    "|     Fries | 1.89 |      380 |       4 |  19 |    270 |  \n",
    "|  Macaroni | 2.09 |      320 |      12 |  10 |    930 |  \n",
    "|     Pizza | 1.99 |      320 |      15 |  12 |    820 |  \n",
    "|     Salad | 2.49 |      320 |      31 |  12 |   1230 |  \n",
    "|      Milk | 0.89 |      100 |       8 | 2.5 |    125 |  \n",
    "| Ice Cream | 1.59 |      330 |       8 |  10 |    180 |   "
   ]
  },
  {
   "cell_type": "markdown",
   "metadata": {},
   "source": [
    "###### What are the decision variables?"
   ]
  },
  {
   "cell_type": "markdown",
   "metadata": {},
   "source": [
    "How much of each item to purchase.\n",
    "\n",
    "$x_i = $ the amount of item $i$ to purchase"
   ]
  },
  {
   "cell_type": "markdown",
   "metadata": {},
   "source": [
    "###### What is our objective?"
   ]
  },
  {
   "cell_type": "markdown",
   "metadata": {},
   "source": [
    "To minimize daily cost.\n",
    "\n",
    "$min_x \\sum_i c_i * x_i$\n",
    "\n",
    "where $c_{i}$ is the cost to purchase one unit of item $i$"
   ]
  },
  {
   "cell_type": "markdown",
   "metadata": {},
   "source": [
    "###### What are the constraints?"
   ]
  },
  {
   "cell_type": "markdown",
   "metadata": {},
   "source": [
    "The total calories, protein, fat, and sodium of the purchased items must fit within the given bounds.  \n",
    "We can only purchase a non-negative amount of each item.  \n",
    "(We can only purchase an integer amount of each item.)\n",
    "\n",
    "$1800 \\leq \\sum_i k_i * x_i \\leq 2200$  \n",
    "$91 \\leq \\sum_i p_i * x_i$  \n",
    "$0 \\leq \\sum_i f_i * x_i \\leq 65$  \n",
    "$0 \\leq \\sum_i s_i * x_i \\leq 1779$  \n",
    "$x_i \\geq 0 \\; \\forall i$  \n",
    "$(x_i \\in \\mathbb{Z} \\; \\forall i)$  "
   ]
  },
  {
   "cell_type": "markdown",
   "metadata": {},
   "source": [
    "Where:\n",
    "- $k_{i}$ = the number of calories in one unit of item $i$\n",
    "- $p_{i}$ = the number of grams of protein in one unit of item $i$\n",
    "- $f_{i}$ = the number of grams of fat in one unit of item $i$\n",
    "- $s_{i}$ = the number of milligrams of sodium in one unit of item $i$"
   ]
  },
  {
   "cell_type": "markdown",
   "metadata": {},
   "source": [
    "# Mathematical Programming Software"
   ]
  },
  {
   "cell_type": "markdown",
   "metadata": {},
   "source": [
    "When using software to do mathematical programming, there are two components of the software: the solver, and the interface to call the solver. Often in conversation, people will say something like \"Gurobi\" to refer to both, although they are distinctly separate. Here, we are using the Gurobi solver with the gurobi-provided python programming interface (the package gurobipy and python). With an interface, we are talking about a software that is written in its own programming language or a package that interfaces with a programming language. Regarding a solver, that is the specific software or algorithms used to do the computations on the problem that was converted to a specific format for its use (the software interface does the conversion)\n",
    "\n",
    "Examples of Mathematical Programming Solvers are (this is a not a complete list):\n",
    "* Gurobi: https://www.gurobi.com/\n",
    "* CPLEX: https://www.ibm.com/analytics/cplex-optimizer\n",
    "* CBC, the COIN-OR Open Source Solver: https://www.coin-or.org/Cbc/\n",
    "\n",
    "Note that Gurobi and CPLEX are commercial solvers and CBC is an open-source one.\n",
    "\n",
    "Examples of Mathematical Programming Interfaces (this is a not a complete list):\n",
    "* gurobipy (ex. with python) See https://www.gurobi.com/\n",
    "* Google-OR tools: See https://developers.google.com/optimization. Here this also includes at least one solver (see solvers above)\n",
    "* Pyomo (in python): http://www.pyomo.org/\n",
    "* AMPL: https://ampl.com/\n"
   ]
  },
  {
   "cell_type": "markdown",
   "metadata": {},
   "source": [
    "# Introduction to DataFrames & HiGHS solver"
   ]
  },
  {
   "cell_type": "code",
   "execution_count": 34,
   "metadata": {},
   "outputs": [],
   "source": [
    "using JuMP\n",
    "import DataFrames\n",
    "import HiGHS"
   ]
  },
  {
   "cell_type": "code",
   "execution_count": 35,
   "metadata": {},
   "outputs": [
    {
     "data": {
      "text/html": [
       "<div><div style = \"float: left;\"><span>9×6 DataFrame</span></div><div style = \"clear: both;\"></div></div><div class = \"data-frame\" style = \"overflow-x: scroll;\"><table class = \"data-frame\" style = \"margin-bottom: 6px;\"><thead><tr class = \"header\"><th class = \"rowNumber\" style = \"font-weight: bold; text-align: right;\">Row</th><th style = \"text-align: left;\">name</th><th style = \"text-align: left;\">cost</th><th style = \"text-align: left;\">calories</th><th style = \"text-align: left;\">protein</th><th style = \"text-align: left;\">fat</th><th style = \"text-align: left;\">sodium</th></tr><tr class = \"subheader headerLastRow\"><th class = \"rowNumber\" style = \"font-weight: bold; text-align: right;\"></th><th title = \"Any\" style = \"text-align: left;\">Any</th><th title = \"Any\" style = \"text-align: left;\">Any</th><th title = \"Any\" style = \"text-align: left;\">Any</th><th title = \"Any\" style = \"text-align: left;\">Any</th><th title = \"Any\" style = \"text-align: left;\">Any</th><th title = \"Any\" style = \"text-align: left;\">Any</th></tr></thead><tbody><tr><td class = \"rowNumber\" style = \"font-weight: bold; text-align: right;\">1</td><td style = \"text-align: left;\">hamburger</td><td style = \"text-align: left;\">2.49</td><td style = \"text-align: left;\">410</td><td style = \"text-align: left;\">24</td><td style = \"text-align: left;\">26</td><td style = \"text-align: left;\">730</td></tr><tr><td class = \"rowNumber\" style = \"font-weight: bold; text-align: right;\">2</td><td style = \"text-align: left;\">chicken</td><td style = \"text-align: left;\">2.89</td><td style = \"text-align: left;\">420</td><td style = \"text-align: left;\">32</td><td style = \"text-align: left;\">10</td><td style = \"text-align: left;\">1190</td></tr><tr><td class = \"rowNumber\" style = \"font-weight: bold; text-align: right;\">3</td><td style = \"text-align: left;\">hot dog</td><td style = \"text-align: left;\">1.5</td><td style = \"text-align: left;\">560</td><td style = \"text-align: left;\">20</td><td style = \"text-align: left;\">32</td><td style = \"text-align: left;\">1800</td></tr><tr><td class = \"rowNumber\" style = \"font-weight: bold; text-align: right;\">4</td><td style = \"text-align: left;\">fries</td><td style = \"text-align: left;\">1.89</td><td style = \"text-align: left;\">380</td><td style = \"text-align: left;\">4</td><td style = \"text-align: left;\">19</td><td style = \"text-align: left;\">270</td></tr><tr><td class = \"rowNumber\" style = \"font-weight: bold; text-align: right;\">5</td><td style = \"text-align: left;\">macaroni</td><td style = \"text-align: left;\">2.09</td><td style = \"text-align: left;\">320</td><td style = \"text-align: left;\">12</td><td style = \"text-align: left;\">10</td><td style = \"text-align: left;\">930</td></tr><tr><td class = \"rowNumber\" style = \"font-weight: bold; text-align: right;\">6</td><td style = \"text-align: left;\">pizza</td><td style = \"text-align: left;\">1.99</td><td style = \"text-align: left;\">320</td><td style = \"text-align: left;\">15</td><td style = \"text-align: left;\">12</td><td style = \"text-align: left;\">820</td></tr><tr><td class = \"rowNumber\" style = \"font-weight: bold; text-align: right;\">7</td><td style = \"text-align: left;\">salad</td><td style = \"text-align: left;\">2.49</td><td style = \"text-align: left;\">320</td><td style = \"text-align: left;\">31</td><td style = \"text-align: left;\">12</td><td style = \"text-align: left;\">1230</td></tr><tr><td class = \"rowNumber\" style = \"font-weight: bold; text-align: right;\">8</td><td style = \"text-align: left;\">milk</td><td style = \"text-align: left;\">0.89</td><td style = \"text-align: left;\">100</td><td style = \"text-align: left;\">8</td><td style = \"text-align: left;\">2.5</td><td style = \"text-align: left;\">125</td></tr><tr><td class = \"rowNumber\" style = \"font-weight: bold; text-align: right;\">9</td><td style = \"text-align: left;\">ice cream</td><td style = \"text-align: left;\">1.59</td><td style = \"text-align: left;\">330</td><td style = \"text-align: left;\">8</td><td style = \"text-align: left;\">10</td><td style = \"text-align: left;\">180</td></tr></tbody></table></div>"
      ],
      "text/latex": [
       "\\begin{tabular}{r|cccccc}\n",
       "\t& name & cost & calories & protein & fat & sodium\\\\\n",
       "\t\\hline\n",
       "\t& Any & Any & Any & Any & Any & Any\\\\\n",
       "\t\\hline\n",
       "\t1 & hamburger & 2.49 & 410 & 24 & 26 & 730 \\\\\n",
       "\t2 & chicken & 2.89 & 420 & 32 & 10 & 1190 \\\\\n",
       "\t3 & hot dog & 1.5 & 560 & 20 & 32 & 1800 \\\\\n",
       "\t4 & fries & 1.89 & 380 & 4 & 19 & 270 \\\\\n",
       "\t5 & macaroni & 2.09 & 320 & 12 & 10 & 930 \\\\\n",
       "\t6 & pizza & 1.99 & 320 & 15 & 12 & 820 \\\\\n",
       "\t7 & salad & 2.49 & 320 & 31 & 12 & 1230 \\\\\n",
       "\t8 & milk & 0.89 & 100 & 8 & 2.5 & 125 \\\\\n",
       "\t9 & ice cream & 1.59 & 330 & 8 & 10 & 180 \\\\\n",
       "\\end{tabular}\n"
      ],
      "text/plain": [
       "\u001b[1m9×6 DataFrame\u001b[0m\n",
       "\u001b[1m Row \u001b[0m│\u001b[1m name      \u001b[0m\u001b[1m cost \u001b[0m\u001b[1m calories \u001b[0m\u001b[1m protein \u001b[0m\u001b[1m fat \u001b[0m\u001b[1m sodium \u001b[0m\n",
       "     │\u001b[90m Any       \u001b[0m\u001b[90m Any  \u001b[0m\u001b[90m Any      \u001b[0m\u001b[90m Any     \u001b[0m\u001b[90m Any \u001b[0m\u001b[90m Any    \u001b[0m\n",
       "─────┼─────────────────────────────────────────────────\n",
       "   1 │ hamburger  2.49  410       24       26   730\n",
       "   2 │ chicken    2.89  420       32       10   1190\n",
       "   3 │ hot dog    1.5   560       20       32   1800\n",
       "   4 │ fries      1.89  380       4        19   270\n",
       "   5 │ macaroni   2.09  320       12       10   930\n",
       "   6 │ pizza      1.99  320       15       12   820\n",
       "   7 │ salad      2.49  320       31       12   1230\n",
       "   8 │ milk       0.89  100       8        2.5  125\n",
       "   9 │ ice cream  1.59  330       8        10   180"
      ]
     },
     "execution_count": 35,
     "metadata": {},
     "output_type": "execute_result"
    }
   ],
   "source": [
    "foods = DataFrames.DataFrame(\n",
    "    [\n",
    "        \"hamburger\" 2.49 410 24 26 730\n",
    "        \"chicken\" 2.89 420 32 10 1190\n",
    "        \"hot dog\" 1.50 560 20 32 1800\n",
    "        \"fries\" 1.89 380 4 19 270\n",
    "        \"macaroni\" 2.09 320 12 10 930\n",
    "        \"pizza\" 1.99 320 15 12 820\n",
    "        \"salad\" 2.49 320 31 12 1230\n",
    "        \"milk\" 0.89 100 8 2.5 125\n",
    "        \"ice cream\" 1.59 330 8 10 180\n",
    "    ],\n",
    "    [\"name\", \"cost\", \"calories\", \"protein\", \"fat\", \"sodium\"],\n",
    ")"
   ]
  },
  {
   "cell_type": "code",
   "execution_count": 36,
   "metadata": {},
   "outputs": [
    {
     "data": {
      "text/html": [
       "<div><div style = \"float: left;\"><span>4×3 DataFrame</span></div><div style = \"clear: both;\"></div></div><div class = \"data-frame\" style = \"overflow-x: scroll;\"><table class = \"data-frame\" style = \"margin-bottom: 6px;\"><thead><tr class = \"header\"><th class = \"rowNumber\" style = \"font-weight: bold; text-align: right;\">Row</th><th style = \"text-align: left;\">nutrient</th><th style = \"text-align: left;\">min</th><th style = \"text-align: left;\">max</th></tr><tr class = \"subheader headerLastRow\"><th class = \"rowNumber\" style = \"font-weight: bold; text-align: right;\"></th><th title = \"Any\" style = \"text-align: left;\">Any</th><th title = \"Any\" style = \"text-align: left;\">Any</th><th title = \"Any\" style = \"text-align: left;\">Any</th></tr></thead><tbody><tr><td class = \"rowNumber\" style = \"font-weight: bold; text-align: right;\">1</td><td style = \"text-align: left;\">calories</td><td style = \"text-align: left;\">1800</td><td style = \"text-align: left;\">2200</td></tr><tr><td class = \"rowNumber\" style = \"font-weight: bold; text-align: right;\">2</td><td style = \"text-align: left;\">protein</td><td style = \"text-align: left;\">91</td><td style = \"text-align: left;\">Inf</td></tr><tr><td class = \"rowNumber\" style = \"font-weight: bold; text-align: right;\">3</td><td style = \"text-align: left;\">fat</td><td style = \"text-align: left;\">0</td><td style = \"text-align: left;\">65</td></tr><tr><td class = \"rowNumber\" style = \"font-weight: bold; text-align: right;\">4</td><td style = \"text-align: left;\">sodium</td><td style = \"text-align: left;\">0</td><td style = \"text-align: left;\">1779</td></tr></tbody></table></div>"
      ],
      "text/latex": [
       "\\begin{tabular}{r|ccc}\n",
       "\t& nutrient & min & max\\\\\n",
       "\t\\hline\n",
       "\t& Any & Any & Any\\\\\n",
       "\t\\hline\n",
       "\t1 & calories & 1800 & 2200 \\\\\n",
       "\t2 & protein & 91 & Inf \\\\\n",
       "\t3 & fat & 0 & 65 \\\\\n",
       "\t4 & sodium & 0 & 1779 \\\\\n",
       "\\end{tabular}\n"
      ],
      "text/plain": [
       "\u001b[1m4×3 DataFrame\u001b[0m\n",
       "\u001b[1m Row \u001b[0m│\u001b[1m nutrient \u001b[0m\u001b[1m min  \u001b[0m\u001b[1m max  \u001b[0m\n",
       "     │\u001b[90m Any      \u001b[0m\u001b[90m Any  \u001b[0m\u001b[90m Any  \u001b[0m\n",
       "─────┼──────────────────────\n",
       "   1 │ calories  1800  2200\n",
       "   2 │ protein   91    Inf\n",
       "   3 │ fat       0     65\n",
       "   4 │ sodium    0     1779"
      ]
     },
     "execution_count": 36,
     "metadata": {},
     "output_type": "execute_result"
    }
   ],
   "source": [
    "limits = DataFrames.DataFrame(\n",
    "    [\n",
    "        \"calories\" 1800 2200\n",
    "        \"protein\" 91 Inf\n",
    "        \"fat\" 0 65\n",
    "        \"sodium\" 0 1779\n",
    "    ],\n",
    "    [\"nutrient\", \"min\", \"max\"],\n",
    ")"
   ]
  },
  {
   "cell_type": "markdown",
   "metadata": {},
   "source": [
    "First, create a new JuMP model. Since we have a linear program, we'll use HiGHS as our optimizer:\n"
   ]
  },
  {
   "cell_type": "code",
   "execution_count": 37,
   "metadata": {},
   "outputs": [],
   "source": [
    "model = Model(HiGHS.Optimizer)\n",
    "set_silent(model)"
   ]
  },
  {
   "cell_type": "markdown",
   "metadata": {},
   "source": [
    "Next, we create a set of decision variables x, with one element for each row in the DataFrame, and each x has a lower bound of 0:"
   ]
  },
  {
   "cell_type": "code",
   "execution_count": 38,
   "metadata": {},
   "outputs": [
    {
     "data": {
      "text/plain": [
       "1-dimensional DenseAxisArray{VariableRef,1,...} with index sets:\n",
       "    Dimension 1, Any[\"hamburger\", \"chicken\", \"hot dog\", \"fries\", \"macaroni\", \"pizza\", \"salad\", \"milk\", \"ice cream\"]\n",
       "And data, a 9-element Vector{VariableRef}:\n",
       " x[hamburger]\n",
       " x[chicken]\n",
       " x[hot dog]\n",
       " x[fries]\n",
       " x[macaroni]\n",
       " x[pizza]\n",
       " x[salad]\n",
       " x[milk]\n",
       " x[ice cream]"
      ]
     },
     "execution_count": 38,
     "metadata": {},
     "output_type": "execute_result"
    }
   ],
   "source": [
    "@variable(model, x[foods.name] >= 0)\n"
   ]
  },
  {
   "cell_type": "markdown",
   "metadata": {},
   "source": [
    "To simplify things later on, we store the vector as a new column x in the DataFrame foods:\n"
   ]
  },
  {
   "cell_type": "code",
   "execution_count": 39,
   "metadata": {},
   "outputs": [
    {
     "data": {
      "text/plain": [
       "9-element Vector{VariableRef}:\n",
       " x[hamburger]\n",
       " x[chicken]\n",
       " x[hot dog]\n",
       " x[fries]\n",
       " x[macaroni]\n",
       " x[pizza]\n",
       " x[salad]\n",
       " x[milk]\n",
       " x[ice cream]"
      ]
     },
     "execution_count": 39,
     "metadata": {},
     "output_type": "execute_result"
    }
   ],
   "source": [
    "foods.x = Array(x)\n"
   ]
  },
  {
   "cell_type": "markdown",
   "metadata": {},
   "source": [
    "Once the decision variables are defined, we can then define the objective.  Our objective is to minimize the total cost of purchasing food:\r\n"
   ]
  },
  {
   "cell_type": "code",
   "execution_count": 40,
   "metadata": {},
   "outputs": [],
   "source": [
    "@objective(model, Min, sum(foods.cost .* foods.x));"
   ]
  },
  {
   "cell_type": "markdown",
   "metadata": {},
   "source": [
    "Finally, we can add the constraints.  We need to add a constraint that our total intake of each component is within the limits contained in the limits DataFrame:"
   ]
  },
  {
   "cell_type": "code",
   "execution_count": 41,
   "metadata": {},
   "outputs": [],
   "source": [
    "@constraint(\n",
    "    model,\n",
    "    [row in eachrow(limits)],\n",
    "    row.min <= sum(foods[!, row.nutrient] .* foods.x) <= row.max,\n",
    ");"
   ]
  },
  {
   "cell_type": "code",
   "execution_count": 42,
   "metadata": {},
   "outputs": [
    {
     "data": {
      "text/latex": [
       "$$ \\begin{aligned}\n",
       "\\min\\quad & 2.49 x_{hamburger} + 2.89 x_{chicken} + 1.5 x_{hot dog} + 1.89 x_{fries} + 2.09 x_{macaroni} + 1.99 x_{pizza} + 2.49 x_{salad} + 0.89 x_{milk} + 1.59 x_{ice cream}\\\\\n",
       "\\text{Subject to} \\quad & 410 x_{hamburger} + 420 x_{chicken} + 560 x_{hot dog} + 380 x_{fries} + 320 x_{macaroni} + 320 x_{pizza} + 320 x_{salad} + 100 x_{milk} + 330 x_{ice cream} \\in \\[1800, 2200\\]\\\\\n",
       " & 24 x_{hamburger} + 32 x_{chicken} + 20 x_{hot dog} + 4 x_{fries} + 12 x_{macaroni} + 15 x_{pizza} + 31 x_{salad} + 8 x_{milk} + 8 x_{ice cream} \\in \\[91, Inf\\]\\\\\n",
       " & 26 x_{hamburger} + 10 x_{chicken} + 32 x_{hot dog} + 19 x_{fries} + 10 x_{macaroni} + 12 x_{pizza} + 12 x_{salad} + 2.5 x_{milk} + 10 x_{ice cream} \\in \\[0, 65\\]\\\\\n",
       " & 730 x_{hamburger} + 1190 x_{chicken} + 1800 x_{hot dog} + 270 x_{fries} + 930 x_{macaroni} + 820 x_{pizza} + 1230 x_{salad} + 125 x_{milk} + 180 x_{ice cream} \\in \\[0, 1779\\]\\\\\n",
       " & x_{hamburger} \\geq 0\\\\\n",
       " & x_{chicken} \\geq 0\\\\\n",
       " & x_{hot dog} \\geq 0\\\\\n",
       " & x_{fries} \\geq 0\\\\\n",
       " & x_{macaroni} \\geq 0\\\\\n",
       " & x_{pizza} \\geq 0\\\\\n",
       " & x_{salad} \\geq 0\\\\\n",
       " & x_{milk} \\geq 0\\\\\n",
       " & x_{ice cream} \\geq 0\\\\\n",
       "\\end{aligned} $$"
      ]
     },
     "metadata": {},
     "output_type": "display_data"
    }
   ],
   "source": [
    "print(model)"
   ]
  },
  {
   "cell_type": "code",
   "execution_count": 43,
   "metadata": {},
   "outputs": [
    {
     "data": {
      "text/plain": [
       "* Solver : HiGHS\n",
       "\n",
       "* Status\n",
       "  Result count       : 1\n",
       "  Termination status : OPTIMAL\n",
       "  Message from the solver:\n",
       "  \"kHighsModelStatusOptimal\"\n",
       "\n",
       "* Candidate solution (result #1)\n",
       "  Primal status      : FEASIBLE_POINT\n",
       "  Dual status        : FEASIBLE_POINT\n",
       "  Objective value    : 1.18289e+01\n",
       "  Objective bound    : 0.00000e+00\n",
       "  Relative gap       : Inf\n",
       "  Dual objective value : 1.18289e+01\n",
       "\n",
       "* Work counters\n",
       "  Solve time (sec)   : 1.01590e-03\n",
       "  Simplex iterations : 6\n",
       "  Barrier iterations : 0\n",
       "  Node count         : -1\n"
      ]
     },
     "execution_count": 43,
     "metadata": {},
     "output_type": "execute_result"
    }
   ],
   "source": [
    "optimize!(model)\n",
    "solution_summary(model)"
   ]
  },
  {
   "cell_type": "markdown",
   "metadata": {},
   "source": [
    "We found an optimal solution. Let's see what the optimal solution is:\r\n"
   ]
  },
  {
   "cell_type": "code",
   "execution_count": 44,
   "metadata": {},
   "outputs": [
    {
     "name": "stdout",
     "output_type": "stream",
     "text": [
      "hamburger = 0.6045138888888871\n",
      "chicken = 0.0\n",
      "hot dog = 0.0\n",
      "fries = 0.0\n",
      "macaroni = 0.0\n",
      "pizza = 0.0\n",
      "salad = 0.0\n",
      "milk = 6.9701388888888935\n",
      "ice cream = 2.5913194444444447\n"
     ]
    }
   ],
   "source": [
    "for row in eachrow(foods)\n",
    "    println(row.name, \" = \", value(row.x))\n",
    "end"
   ]
  },
  {
   "cell_type": "markdown",
   "metadata": {},
   "source": [
    "That's a lot of milk and ice cream, and sadly, we only get 0.6 of a hamburger.\n"
   ]
  },
  {
   "cell_type": "markdown",
   "metadata": {},
   "source": [
    "We can also use the function Containers.rowtable to easily convert the result into a DataFrame:\n"
   ]
  },
  {
   "cell_type": "code",
   "execution_count": 45,
   "metadata": {},
   "outputs": [
    {
     "data": {
      "text/html": [
       "<div><div style = \"float: left;\"><span>9×2 DataFrame</span></div><div style = \"clear: both;\"></div></div><div class = \"data-frame\" style = \"overflow-x: scroll;\"><table class = \"data-frame\" style = \"margin-bottom: 6px;\"><thead><tr class = \"header\"><th class = \"rowNumber\" style = \"font-weight: bold; text-align: right;\">Row</th><th style = \"text-align: left;\">food</th><th style = \"text-align: left;\">quantity</th></tr><tr class = \"subheader headerLastRow\"><th class = \"rowNumber\" style = \"font-weight: bold; text-align: right;\"></th><th title = \"String\" style = \"text-align: left;\">String</th><th title = \"Float64\" style = \"text-align: left;\">Float64</th></tr></thead><tbody><tr><td class = \"rowNumber\" style = \"font-weight: bold; text-align: right;\">1</td><td style = \"text-align: left;\">hamburger</td><td style = \"text-align: right;\">0.604514</td></tr><tr><td class = \"rowNumber\" style = \"font-weight: bold; text-align: right;\">2</td><td style = \"text-align: left;\">chicken</td><td style = \"text-align: right;\">0.0</td></tr><tr><td class = \"rowNumber\" style = \"font-weight: bold; text-align: right;\">3</td><td style = \"text-align: left;\">hot dog</td><td style = \"text-align: right;\">0.0</td></tr><tr><td class = \"rowNumber\" style = \"font-weight: bold; text-align: right;\">4</td><td style = \"text-align: left;\">fries</td><td style = \"text-align: right;\">0.0</td></tr><tr><td class = \"rowNumber\" style = \"font-weight: bold; text-align: right;\">5</td><td style = \"text-align: left;\">macaroni</td><td style = \"text-align: right;\">0.0</td></tr><tr><td class = \"rowNumber\" style = \"font-weight: bold; text-align: right;\">6</td><td style = \"text-align: left;\">pizza</td><td style = \"text-align: right;\">0.0</td></tr><tr><td class = \"rowNumber\" style = \"font-weight: bold; text-align: right;\">7</td><td style = \"text-align: left;\">salad</td><td style = \"text-align: right;\">0.0</td></tr><tr><td class = \"rowNumber\" style = \"font-weight: bold; text-align: right;\">8</td><td style = \"text-align: left;\">milk</td><td style = \"text-align: right;\">6.97014</td></tr><tr><td class = \"rowNumber\" style = \"font-weight: bold; text-align: right;\">9</td><td style = \"text-align: left;\">ice cream</td><td style = \"text-align: right;\">2.59132</td></tr></tbody></table></div>"
      ],
      "text/latex": [
       "\\begin{tabular}{r|cc}\n",
       "\t& food & quantity\\\\\n",
       "\t\\hline\n",
       "\t& String & Float64\\\\\n",
       "\t\\hline\n",
       "\t1 & hamburger & 0.604514 \\\\\n",
       "\t2 & chicken & 0.0 \\\\\n",
       "\t3 & hot dog & 0.0 \\\\\n",
       "\t4 & fries & 0.0 \\\\\n",
       "\t5 & macaroni & 0.0 \\\\\n",
       "\t6 & pizza & 0.0 \\\\\n",
       "\t7 & salad & 0.0 \\\\\n",
       "\t8 & milk & 6.97014 \\\\\n",
       "\t9 & ice cream & 2.59132 \\\\\n",
       "\\end{tabular}\n"
      ],
      "text/plain": [
       "\u001b[1m9×2 DataFrame\u001b[0m\n",
       "\u001b[1m Row \u001b[0m│\u001b[1m food      \u001b[0m\u001b[1m quantity \u001b[0m\n",
       "     │\u001b[90m String    \u001b[0m\u001b[90m Float64  \u001b[0m\n",
       "─────┼─────────────────────\n",
       "   1 │ hamburger  0.604514\n",
       "   2 │ chicken    0.0\n",
       "   3 │ hot dog    0.0\n",
       "   4 │ fries      0.0\n",
       "   5 │ macaroni   0.0\n",
       "   6 │ pizza      0.0\n",
       "   7 │ salad      0.0\n",
       "   8 │ milk       6.97014\n",
       "   9 │ ice cream  2.59132"
      ]
     },
     "execution_count": 45,
     "metadata": {},
     "output_type": "execute_result"
    }
   ],
   "source": [
    "table = Containers.rowtable(value, x; header = [:food, :quantity])\n",
    "solution = DataFrames.DataFrame(table)"
   ]
  },
  {
   "cell_type": "markdown",
   "metadata": {},
   "source": [
    "This makes it easy to perform analyses our solution:"
   ]
  },
  {
   "cell_type": "code",
   "execution_count": 46,
   "metadata": {},
   "outputs": [
    {
     "data": {
      "text/html": [
       "<div><div style = \"float: left;\"><span>3×2 DataFrame</span></div><div style = \"clear: both;\"></div></div><div class = \"data-frame\" style = \"overflow-x: scroll;\"><table class = \"data-frame\" style = \"margin-bottom: 6px;\"><thead><tr class = \"header\"><th class = \"rowNumber\" style = \"font-weight: bold; text-align: right;\">Row</th><th style = \"text-align: left;\">food</th><th style = \"text-align: left;\">quantity</th></tr><tr class = \"subheader headerLastRow\"><th class = \"rowNumber\" style = \"font-weight: bold; text-align: right;\"></th><th title = \"String\" style = \"text-align: left;\">String</th><th title = \"Float64\" style = \"text-align: left;\">Float64</th></tr></thead><tbody><tr><td class = \"rowNumber\" style = \"font-weight: bold; text-align: right;\">1</td><td style = \"text-align: left;\">hamburger</td><td style = \"text-align: right;\">0.604514</td></tr><tr><td class = \"rowNumber\" style = \"font-weight: bold; text-align: right;\">2</td><td style = \"text-align: left;\">milk</td><td style = \"text-align: right;\">6.97014</td></tr><tr><td class = \"rowNumber\" style = \"font-weight: bold; text-align: right;\">3</td><td style = \"text-align: left;\">ice cream</td><td style = \"text-align: right;\">2.59132</td></tr></tbody></table></div>"
      ],
      "text/latex": [
       "\\begin{tabular}{r|cc}\n",
       "\t& food & quantity\\\\\n",
       "\t\\hline\n",
       "\t& String & Float64\\\\\n",
       "\t\\hline\n",
       "\t1 & hamburger & 0.604514 \\\\\n",
       "\t2 & milk & 6.97014 \\\\\n",
       "\t3 & ice cream & 2.59132 \\\\\n",
       "\\end{tabular}\n"
      ],
      "text/plain": [
       "\u001b[1m3×2 DataFrame\u001b[0m\n",
       "\u001b[1m Row \u001b[0m│\u001b[1m food      \u001b[0m\u001b[1m quantity \u001b[0m\n",
       "     │\u001b[90m String    \u001b[0m\u001b[90m Float64  \u001b[0m\n",
       "─────┼─────────────────────\n",
       "   1 │ hamburger  0.604514\n",
       "   2 │ milk       6.97014\n",
       "   3 │ ice cream  2.59132"
      ]
     },
     "execution_count": 46,
     "metadata": {},
     "output_type": "execute_result"
    }
   ],
   "source": [
    "filter!(row -> row.quantity > 0.0, solution)"
   ]
  },
  {
   "cell_type": "markdown",
   "metadata": {},
   "source": [
    "#### Integrality"
   ]
  },
  {
   "cell_type": "markdown",
   "metadata": {},
   "source": [
    "In the previous model, our results were fractional. While we can consume fractional values, we typically cannot purchase them. Therefore it makes sense to constrain the values to integer when we are trying to minimize the cost of our purchase."
   ]
  },
  {
   "cell_type": "markdown",
   "metadata": {},
   "source": [
    "The most straight forward strategy would be to round the previous fractional solution. However, this rounded solution is not guaranteed to be optimial. Furthermore, there are no guarantees that this solution would be feasible.\n",
    "\n",
    "For example, the rounded solution to this problem (1 hamburger, 3 ice creams, 7 milks) is infeasible. In this scenario, the fat consumption would be 73.5g and the sodium would be 2145mg, which are both higher than the upper bounds of 65g and 1779mg."
   ]
  },
  {
   "cell_type": "code",
   "execution_count": 47,
   "metadata": {},
   "outputs": [],
   "source": [
    "unregister(model, :x)"
   ]
  },
  {
   "cell_type": "code",
   "execution_count": 48,
   "metadata": {},
   "outputs": [
    {
     "data": {
      "text/plain": [
       "1-dimensional DenseAxisArray{VariableRef,1,...} with index sets:\n",
       "    Dimension 1, Any[\"hamburger\", \"chicken\", \"hot dog\", \"fries\", \"macaroni\", \"pizza\", \"salad\", \"milk\", \"ice cream\"]\n",
       "And data, a 9-element Vector{VariableRef}:\n",
       " x[hamburger]\n",
       " x[chicken]\n",
       " x[hot dog]\n",
       " x[fries]\n",
       " x[macaroni]\n",
       " x[pizza]\n",
       " x[salad]\n",
       " x[milk]\n",
       " x[ice cream]"
      ]
     },
     "execution_count": 48,
     "metadata": {},
     "output_type": "execute_result"
    }
   ],
   "source": [
    "@variable(model, x[foods.name] >= 0, Int)"
   ]
  },
  {
   "cell_type": "code",
   "execution_count": 49,
   "metadata": {},
   "outputs": [
    {
     "data": {
      "text/plain": [
       "9-element Vector{VariableRef}:\n",
       " x[hamburger]\n",
       " x[chicken]\n",
       " x[hot dog]\n",
       " x[fries]\n",
       " x[macaroni]\n",
       " x[pizza]\n",
       " x[salad]\n",
       " x[milk]\n",
       " x[ice cream]"
      ]
     },
     "execution_count": 49,
     "metadata": {},
     "output_type": "execute_result"
    }
   ],
   "source": [
    "foods.x = Array(x)"
   ]
  },
  {
   "cell_type": "code",
   "execution_count": 50,
   "metadata": {},
   "outputs": [],
   "source": [
    "@objective(model, Min, sum(foods.cost .* foods.x));"
   ]
  },
  {
   "cell_type": "code",
   "execution_count": 51,
   "metadata": {},
   "outputs": [],
   "source": [
    "@constraint(\n",
    "    model, \n",
    "    [row in eachrow(limits)], \n",
    "    row.min <= sum(foods[!, row.nutrient] .* foods.x) <= row.max, \n",
    ");"
   ]
  },
  {
   "cell_type": "code",
   "execution_count": 52,
   "metadata": {},
   "outputs": [
    {
     "data": {
      "text/latex": [
       "$$ \\begin{aligned}\n",
       "\\min\\quad & 2.49 x_{hamburger} + 2.89 x_{chicken} + 1.5 x_{hot dog} + 1.89 x_{fries} + 2.09 x_{macaroni} + 1.99 x_{pizza} + 2.49 x_{salad} + 0.89 x_{milk} + 1.59 x_{ice cream}\\\\\n",
       "\\text{Subject to} \\quad & 410 x_{hamburger} + 420 x_{chicken} + 560 x_{hot dog} + 380 x_{fries} + 320 x_{macaroni} + 320 x_{pizza} + 320 x_{salad} + 100 x_{milk} + 330 x_{ice cream} \\in \\[1800, 2200\\]\\\\\n",
       " & 24 x_{hamburger} + 32 x_{chicken} + 20 x_{hot dog} + 4 x_{fries} + 12 x_{macaroni} + 15 x_{pizza} + 31 x_{salad} + 8 x_{milk} + 8 x_{ice cream} \\in \\[91, Inf\\]\\\\\n",
       " & 26 x_{hamburger} + 10 x_{chicken} + 32 x_{hot dog} + 19 x_{fries} + 10 x_{macaroni} + 12 x_{pizza} + 12 x_{salad} + 2.5 x_{milk} + 10 x_{ice cream} \\in \\[0, 65\\]\\\\\n",
       " & 730 x_{hamburger} + 1190 x_{chicken} + 1800 x_{hot dog} + 270 x_{fries} + 930 x_{macaroni} + 820 x_{pizza} + 1230 x_{salad} + 125 x_{milk} + 180 x_{ice cream} \\in \\[0, 1779\\]\\\\\n",
       " & 410 x_{hamburger} + 420 x_{chicken} + 560 x_{hot dog} + 380 x_{fries} + 320 x_{macaroni} + 320 x_{pizza} + 320 x_{salad} + 100 x_{milk} + 330 x_{ice cream} \\in \\[1800, 2200\\]\\\\\n",
       " & 24 x_{hamburger} + 32 x_{chicken} + 20 x_{hot dog} + 4 x_{fries} + 12 x_{macaroni} + 15 x_{pizza} + 31 x_{salad} + 8 x_{milk} + 8 x_{ice cream} \\in \\[91, Inf\\]\\\\\n",
       " & 26 x_{hamburger} + 10 x_{chicken} + 32 x_{hot dog} + 19 x_{fries} + 10 x_{macaroni} + 12 x_{pizza} + 12 x_{salad} + 2.5 x_{milk} + 10 x_{ice cream} \\in \\[0, 65\\]\\\\\n",
       " & 730 x_{hamburger} + 1190 x_{chicken} + 1800 x_{hot dog} + 270 x_{fries} + 930 x_{macaroni} + 820 x_{pizza} + 1230 x_{salad} + 125 x_{milk} + 180 x_{ice cream} \\in \\[0, 1779\\]\\\\\n",
       " & x_{hamburger} \\geq 0\\\\\n",
       " & x_{chicken} \\geq 0\\\\\n",
       " & x_{hot dog} \\geq 0\\\\\n",
       " & x_{fries} \\geq 0\\\\\n",
       " & x_{macaroni} \\geq 0\\\\\n",
       " & x_{pizza} \\geq 0\\\\\n",
       " & x_{salad} \\geq 0\\\\\n",
       " & x_{milk} \\geq 0\\\\\n",
       " & x_{ice cream} \\geq 0\\\\\n",
       " & x_{hamburger} \\geq 0\\\\\n",
       " & x_{chicken} \\geq 0\\\\\n",
       " & x_{hot dog} \\geq 0\\\\\n",
       " & x_{fries} \\geq 0\\\\\n",
       " & x_{macaroni} \\geq 0\\\\\n",
       " & x_{pizza} \\geq 0\\\\\n",
       " & x_{salad} \\geq 0\\\\\n",
       " & x_{milk} \\geq 0\\\\\n",
       " & x_{ice cream} \\geq 0\\\\\n",
       " & x_{hamburger} \\in \\mathbb{Z}\\\\\n",
       " & x_{chicken} \\in \\mathbb{Z}\\\\\n",
       " & x_{hot dog} \\in \\mathbb{Z}\\\\\n",
       " & x_{fries} \\in \\mathbb{Z}\\\\\n",
       " & x_{macaroni} \\in \\mathbb{Z}\\\\\n",
       " & x_{pizza} \\in \\mathbb{Z}\\\\\n",
       " & x_{salad} \\in \\mathbb{Z}\\\\\n",
       " & x_{milk} \\in \\mathbb{Z}\\\\\n",
       " & x_{ice cream} \\in \\mathbb{Z}\\\\\n",
       "\\end{aligned} $$"
      ]
     },
     "metadata": {},
     "output_type": "display_data"
    }
   ],
   "source": [
    "print(model)"
   ]
  },
  {
   "cell_type": "code",
   "execution_count": 53,
   "metadata": {},
   "outputs": [
    {
     "data": {
      "text/plain": [
       "* Solver : HiGHS\n",
       "\n",
       "* Status\n",
       "  Result count       : 1\n",
       "  Termination status : OPTIMAL\n",
       "  Message from the solver:\n",
       "  \"kHighsModelStatusOptimal\"\n",
       "\n",
       "* Candidate solution (result #1)\n",
       "  Primal status      : FEASIBLE_POINT\n",
       "  Dual status        : NO_SOLUTION\n",
       "  Objective value    : 1.27800e+01\n",
       "  Objective bound    : 1.27800e+01\n",
       "  Relative gap       : 0.00000e+00\n",
       "\n",
       "* Work counters\n",
       "  Solve time (sec)   : 2.02680e-03\n",
       "  Simplex iterations : 23\n",
       "  Barrier iterations : -1\n",
       "  Node count         : 1\n"
      ]
     },
     "execution_count": 53,
     "metadata": {},
     "output_type": "execute_result"
    }
   ],
   "source": [
    "optimize!(model)\n",
    "solution_summary(model)"
   ]
  },
  {
   "cell_type": "code",
   "execution_count": 54,
   "metadata": {},
   "outputs": [
    {
     "name": "stdout",
     "output_type": "stream",
     "text": [
      "hamburger = 0.0\n",
      "chicken = 0.0\n",
      "hot dog = 0.0\n",
      "fries = 0.0\n",
      "macaroni = 0.0\n",
      "pizza = 0.0\n",
      "salad = 0.0\n",
      "milk = 9.0\n",
      "ice cream = 3.0\n"
     ]
    }
   ],
   "source": [
    "for row in eachrow(foods)\n",
    "    println(row.name, \" = \", value(row.x))\n",
    "end"
   ]
  },
  {
   "cell_type": "markdown",
   "metadata": {},
   "source": [
    "The real-valued solution was 0.6 hamburgers, 2.6 ice creams, and 7 milks. If we round up to ensure integrality, the cost is \\\\$13.49. When we explicitly add an integrality constraint, the cost is \\\\$12.78. "
   ]
  },
  {
   "cell_type": "markdown",
   "metadata": {},
   "source": [
    "Integrality constraints typically make the problem harder to solve, but rounding a non-integer solution will almost always lead to a suboptimal solution."
   ]
  },
  {
   "cell_type": "markdown",
   "metadata": {},
   "source": [
    "#### Adding Constraints"
   ]
  },
  {
   "cell_type": "markdown",
   "metadata": {},
   "source": [
    "The previous solution is extremely dairy heavy. Perhaps we would like to limit our amount of dairy, so let's add an additional constraint."
   ]
  },
  {
   "cell_type": "code",
   "execution_count": 55,
   "metadata": {},
   "outputs": [
    {
     "data": {
      "text/plain": [
       "* Solver : HiGHS\n",
       "\n",
       "* Status\n",
       "  Result count       : 0\n",
       "  Termination status : INFEASIBLE\n",
       "  Message from the solver:\n",
       "  \"kHighsModelStatusInfeasible\"\n",
       "\n",
       "* Candidate solution (result #1)\n",
       "  Primal status      : NO_SOLUTION\n",
       "  Dual status        : NO_SOLUTION\n",
       "  Objective bound    : Inf\n",
       "  Relative gap       : Inf\n",
       "\n",
       "* Work counters\n",
       "  Solve time (sec)   : 2.02680e-03\n",
       "  Simplex iterations : 9\n",
       "  Barrier iterations : -1\n",
       "  Node count         : 1\n"
      ]
     },
     "execution_count": 55,
     "metadata": {},
     "output_type": "execute_result"
    }
   ],
   "source": [
    "@constraint(model,milk, x[\"milk\"]<=7)\n",
    "optimize!(model)\n",
    "solution_summary(model)"
   ]
  },
  {
   "cell_type": "code",
   "execution_count": 33,
   "metadata": {},
   "outputs": [],
   "source": [
    "#print(model)"
   ]
  },
  {
   "cell_type": "markdown",
   "metadata": {},
   "source": [
    "  #### Infeasible Solutions"
   ]
  },
  {
   "cell_type": "markdown",
   "metadata": {},
   "source": [
    "\n",
    "\n",
    "Adding the limit dairy constraint made our problem infeasible. \n",
    "\n",
    "There are several ways to investigate this and potentially update our model. For example, most of these items are very high in sodium, which makes it very difficult to buy enough food to meet our other dietary goals while also keeping sodium reasonably low (for example, a single hot dog contains more sodium than our bounds allow). \n",
    "\n",
    "In this case, if we relax our sodium requirements, we can obtain a feasible solution (see below). We will discuss this further in future modules."
   ]
  },
  {
   "cell_type": "code",
   "execution_count": 24,
   "metadata": {},
   "outputs": [],
   "source": [
    "delete(model, milk)"
   ]
  },
  {
   "cell_type": "code",
   "execution_count": 25,
   "metadata": {},
   "outputs": [],
   "source": [
    "@constraint(\n",
    "    model, \n",
    "    [row in eachrow(limits)], \n",
    "    row.min <= sum(foods[!, row.nutrient] .* foods.x) <= row.max, base_name=\"test\",\n",
    ");"
   ]
  },
  {
   "cell_type": "code",
   "execution_count": 26,
   "metadata": {},
   "outputs": [],
   "source": [
    "constraint_by_name(model, \"test\")"
   ]
  },
  {
   "cell_type": "code",
   "execution_count": 30,
   "metadata": {},
   "outputs": [
    {
     "ename": "LoadError",
     "evalue": "UndefVarError: `test` not defined",
     "output_type": "error",
     "traceback": [
      "UndefVarError: `test` not defined",
      "",
      "Stacktrace:",
      " [1] top-level scope",
      "   @ In[30]:1"
     ]
    }
   ],
   "source": [
    "delete(model, test[3])"
   ]
  },
  {
   "cell_type": "code",
   "execution_count": 31,
   "metadata": {},
   "outputs": [],
   "source": [
    "#I can't figure out how to delete the \"sodium\" constraint.  I can't seem to name it, or reference it any other way."
   ]
  }
 ],
 "metadata": {
  "kernelspec": {
   "display_name": "Julia 1.9.2",
   "language": "julia",
   "name": "julia-1.9"
  },
  "language_info": {
   "file_extension": ".jl",
   "mimetype": "application/julia",
   "name": "julia",
   "version": "1.9.2"
  }
 },
 "nbformat": 4,
 "nbformat_minor": 4
}
