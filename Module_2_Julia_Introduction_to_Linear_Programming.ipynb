{
 "cells": [
  {
   "cell_type": "code",
   "execution_count": null,
   "metadata": {},
   "outputs": [],
   "source": []
  },
  {
   "cell_type": "markdown",
   "metadata": {},
   "source": [
    "# Introduction to Linear Programming"
   ]
  },
  {
   "cell_type": "markdown",
   "metadata": {},
   "source": [
    "#### Warmup"
   ]
  },
  {
   "cell_type": "markdown",
   "metadata": {},
   "source": [
    "Using Gurobi, solve the following problem:  \n",
    "    max $\\; x+y+z$  \n",
    "    s.t.  \n",
    "    $x+y \\leq 10$  \n",
    "    $y + 3z \\leq 2x$  \n",
    "    $3x + 2y + z \\leq 20$  \n",
    "    $x, y, z \\geq 0$  "
   ]
  },
  {
   "cell_type": "code",
   "execution_count": 1,
   "metadata": {},
   "outputs": [],
   "source": [
    "import gurobipy as grb\n",
    "\n",
    "env = grb.Env.ClientEnv(\"gurobi.log\",\n",
    "                        \"10.116.90.112\")\n",
    "model = grb.Model(\"LP_Warmup\", env)"
   ]
  },
  {
   "cell_type": "markdown",
   "metadata": {},
   "source": [
    "Create Decision Variables"
   ]
  },
  {
   "cell_type": "code",
   "execution_count": 2,
   "metadata": {},
   "outputs": [],
   "source": [
    "x = model.addVars(3, lb=0)"
   ]
  },
  {
   "cell_type": "markdown",
   "metadata": {},
   "source": [
    "Set Objective "
   ]
  },
  {
   "cell_type": "code",
   "execution_count": 3,
   "metadata": {},
   "outputs": [],
   "source": [
    "model.setObjective(x[0] + x[1] + x[2], grb.GRB.MAXIMIZE)"
   ]
  },
  {
   "cell_type": "markdown",
   "metadata": {},
   "source": [
    "Add Constraints"
   ]
  },
  {
   "cell_type": "code",
   "execution_count": 4,
   "metadata": {},
   "outputs": [],
   "source": [
    "constr1 = model.addConstr(x[0] + x[1] <= 10)\n",
    "constr2 = model.addConstr(x[1] + 3*x[2] <= 2*x[0])\n",
    "constr3 = model.addConstr(3*x[0] + 2*x[1] + x[2] <= 20)"
   ]
  },
  {
   "cell_type": "markdown",
   "metadata": {},
   "source": [
    "Optimize"
   ]
  },
  {
   "cell_type": "code",
   "execution_count": 5,
   "metadata": {},
   "outputs": [
    {
     "name": "stdout",
     "output_type": "stream",
     "text": [
      "Gurobi Optimizer version 9.0.2 build v9.0.2rc0 (mac64)\n",
      "Optimize a model with 3 rows, 3 columns and 8 nonzeros\n",
      "Model fingerprint: 0x29e5e92d\n",
      "Coefficient statistics:\n",
      "  Matrix range     [1e+00, 3e+00]\n",
      "  Objective range  [1e+00, 1e+00]\n",
      "  Bounds range     [0e+00, 0e+00]\n",
      "  RHS range        [1e+01, 2e+01]\n",
      "Presolve time: 0.00s\n",
      "Presolved: 3 rows, 3 columns, 8 nonzeros\n",
      "\n",
      "Iteration    Objective       Primal Inf.    Dual Inf.      Time\n",
      "       0    3.0000000e+30   4.000000e+30   3.000000e+00      0s\n",
      "       4    9.0909091e+00   0.000000e+00   0.000000e+00      0s\n",
      "\n",
      "Solved in 4 iterations and 0.00 seconds\n",
      "Optimal objective  9.090909091e+00\n",
      "{0: <gurobi.Var C0 (value 5.454545454545455)>, 1: <gurobi.Var C1 (value 0.0)>, 2: <gurobi.Var C2 (value 3.6363636363636367)>}\n"
     ]
    }
   ],
   "source": [
    "model.optimize()\n",
    "print(x)"
   ]
  },
  {
   "cell_type": "code",
   "execution_count": 6,
   "metadata": {},
   "outputs": [
    {
     "name": "stdout",
     "output_type": "stream",
     "text": [
      "\n",
      "Compute Server communication statistics:\n",
      "  Sent: 0.003 MBytes in 20 msgs and 2.28s (0.00 MB/s)\n",
      "  Received: 0.002 MBytes in 6 msgs and 0.63s (0.00 MB/s)\n",
      "\n"
     ]
    }
   ],
   "source": [
    "del model\n",
    "del env"
   ]
  },
  {
   "cell_type": "markdown",
   "metadata": {},
   "source": [
    "### Linear Programming"
   ]
  },
  {
   "cell_type": "markdown",
   "metadata": {},
   "source": [
    "In linear programming, all functions (e.g. the objective and constraints) must be affine functions. This can be a considerable limitation, although in some cases a non-linear expression can be converted to a linear form (see Module 4). Although limiting, linear problems are generally much easier to solve than non-linear ones.\n",
    "\n",
    "Linearity: $f(ax+by) = af(x) + bf(y)$\n",
    "\n",
    "Affine: $f(x) = ax + b$\n",
    "\n",
    "Note that an integrality constraint is not linear. If the other constraints are linear, this leads to integer linear programming (see Module 3).\n",
    "\n",
    "Note, for decision variables $x$ and $y$, the following expressions are not linear:\n",
    " - $x \\in \\mathbb{Z}$\n",
    " - $xy$\n",
    " - $|x-y|$\n",
    " - $x (a-bx)$\n",
    " - $min(x,y)$"
   ]
  },
  {
   "cell_type": "markdown",
   "metadata": {},
   "source": [
    "##### Simplex Algorithm"
   ]
  },
  {
   "cell_type": "markdown",
   "metadata": {},
   "source": [
    "The simplex algorithm is an efficient algorithm, in practice, to solve linear programs.\n",
    "\n",
    "Some definitions:\n",
    " - A linear inequality constraint is a linear hyperplane such that points lying on one side are feasible and on the other are not (a 'half-space').\n",
    " - The intersection of these half-spaces forms the feasible region.\n",
    "\n",
    "For example, in two dimensions, the constraints $x \\geq 0$,  $y \\geq 0$,  $x \\leq 1$,  $y \\leq 1$ form a unit square. All feasible points lie within the square $[0,1]\\times[0,1]$, which is a convex polytope.\n",
    "\n",
    "If a unique optimal solution exists, then it must be found on a corner point (or extreme point) of the feasible space. If the optimal solution is not unique, then it may lie on an edge or corner point. In our square example, that means the solution $(x, y)$ must be one of the following if unique: $(0, 0)$, $(1, 0)$, $(0, 1)$, or $(1, 1)$.\n",
    "\n",
    "The simplex algorithm efficiently traverses corner points of the feasible space until a better solution can no longer be found. This point is guaranteed to be optimal.\n",
    "\n",
    "For more details, please see:\n",
    " - Wikipedia: [Simplex Algorithm](https://en.wikipedia.org/wiki/Simplex_algorithm)\n",
    " - Undergraduate Level: *Introduction to Operations Research* by Hillier and Lieberman \n",
    " - Graduate Level: *Introduction to Linear Optimization* by Bertsimas and Tsitsiklis."
   ]
  },
  {
   "cell_type": "markdown",
   "metadata": {},
   "source": [
    "##### Other Considerations"
   ]
  },
  {
   "cell_type": "markdown",
   "metadata": {},
   "source": [
    "- Gurobi uses a variety of algorithms, including the simplex. \n",
    "- The simplex algorithm always returns only one optimal solution. Other optimal solutions may exist.\n",
    "- The optimal solution will always appear at a corner point of the feasible space for a linear program. This is generally not true for non-linear/integer problems. This is one of the reasons why linear programs are generally easier to solve to optimality.\n",
    "- Adding variables or constraints to a linear program generally increases the complexity.\n",
    "\n"
   ]
  },
  {
   "cell_type": "code",
   "execution_count": null,
   "metadata": {},
   "outputs": [],
   "source": []
  },
  {
   "cell_type": "markdown",
   "metadata": {},
   "source": [
    "### RunDisney Example"
   ]
  },
  {
   "cell_type": "markdown",
   "metadata": {},
   "source": [
    "Note: Fictional/Illustrative Example. All Numbers are Fabricated."
   ]
  },
  {
   "cell_type": "markdown",
   "metadata": {},
   "source": [
    "The Walt Disney World Marathon occurs every year in January. The Marathon Weekend is primarily composed of four races: a 5K on Thursday, a 10K on Friday, a half marathon on Saturday, and a marathon on Sunday. Participants can choose one of six options to participate as a runner: the four individual races plus the _Goofy's Race and a Half Challenge_ (the half marathon and marathon bundled) and the _Dopey Challenge_ (all four races bundled). "
   ]
  },
  {
   "cell_type": "markdown",
   "metadata": {},
   "source": [
    "For problems like this, it is useful to differentiate resources and products:\n",
    " - Resource - The raw unit that is being sold. In this example, the four race events are resources. \n",
    " - Product - What the consumer is able to purchase. Products are comprised of one or more resources. Here the guests are able to purchase six different products that are comprised of the four individual events."
   ]
  },
  {
   "cell_type": "markdown",
   "metadata": {},
   "source": [
    "The following table contains the price and expected demand for each product."
   ]
  },
  {
   "cell_type": "markdown",
   "metadata": {},
   "source": [
    "|         Product |  Price | Demand |   \n",
    "| --------------- | ------ | ------ |   \n",
    "|              5K |  \\\\$80 |  15692 |   \n",
    "|             10K | \\\\$120 |  11896 |     \n",
    "|   Half Marathon | \\\\$180 |  18175 |    \n",
    "|        Marathon | \\\\$190 |  17604 |    \n",
    "| Goofy Challenge | \\\\$365 |   4325 |    \n",
    "| Dopey Challenge | \\\\$560 |   5349 |  "
   ]
  },
  {
   "cell_type": "markdown",
   "metadata": {},
   "source": [
    "Due to time and space constraints, only a limited number of runners are allowed for each race, and demand is often higher than capacity. As such, we would like to place limits on the number of available registrations for each product, while ensuring we make as much money as possible.\n",
    "\n",
    "Each resource (race event) has a fixed capacity: the 5K and 10K are limited to 15,000 participants, while the half marathon and the marathon are limited to 25,000 participants."
   ]
  },
  {
   "cell_type": "markdown",
   "metadata": {},
   "source": [
    "The business has also requested that a specified number of each product be available. For example, because the 5K is open to children, they would like to reserve some spaces for 5K-only racers, as these spots can be quickly purchased by Dopey racers, who tend to book much earlier. These minimum values are shown in the table below."
   ]
  },
  {
   "cell_type": "markdown",
   "metadata": {},
   "source": [
    "|         Product |  Price | Demand | Min Spots |    \n",
    "| --------------- | ------ | ------ | --------- |  \n",
    "|              5K |  \\\\$80 |  15692 |     10000 |     \n",
    "|             10K | \\\\$120 |  11896 |      7000 |  \n",
    "|   Half Marathon | \\\\$180 |  18175 |      5000 |   \n",
    "|        Marathon | \\\\$190 |  17604 |      5000 |     \n",
    "| Goofy Challenge | \\\\$365 |   4325 |      2000 |  \n",
    "| Dopey Challenge | \\\\$560 |   5349 |      2000 |  "
   ]
  },
  {
   "cell_type": "markdown",
   "metadata": {},
   "source": [
    "The data below can be used as input for the optimization model:"
   ]
  },
  {
   "cell_type": "code",
   "execution_count": 7,
   "metadata": {},
   "outputs": [
    {
     "name": "stdout",
     "output_type": "stream",
     "text": [
      "          Price  Demand  Min_Spots\n",
      "Product                           \n",
      "5K           80   15692      10000\n",
      "10K         120   11896       7000\n",
      "Half        180   18175       5000\n",
      "Marathon    190   17604       5000\n",
      "Goofy       365    4325       2000\n",
      "Dopey       560    5349       2000\n",
      "          Capacity                  Products\n",
      "Resource                                    \n",
      "5K           15000               [5K, Dopey]\n",
      "10K          15000              [10K, Dopey]\n",
      "Half         25000      [Half, Goofy, Dopey]\n",
      "Marathon     25000  [Marathon, Goofy, Dopey]\n"
     ]
    }
   ],
   "source": [
    "import gurobipy as grb\n",
    "import pandas as pd\n",
    "\n",
    "# Input Data \n",
    "# Product Information\n",
    "prod_df = pd.DataFrame({\n",
    "    'Product': ['5K', '10K', 'Half', 'Marathon', 'Goofy', 'Dopey'],\n",
    "    'Price': [80, 120, 180, 190, 365, 560],\n",
    "    'Demand': [15692, 11896, 18175, 17604, 4325, 5349],\n",
    "    'Min_Spots': [10000, 7000, 5000, 5000, 2000, 2000],\n",
    "})\n",
    "\n",
    "prod_df.set_index('Product', inplace=True)\n",
    "prod_list = prod_df.index.values\n",
    "\n",
    "# Resource Information\n",
    "res_df = pd.DataFrame({\n",
    "    'Resource': ['5K', '10K', 'Half', 'Marathon'],\n",
    "    'Capacity': [15000, 15000, 25000, 25000],\n",
    "    'Products': [['5K', 'Dopey'], ['10K', 'Dopey'], \n",
    "                 ['Half', 'Goofy', 'Dopey'], ['Marathon', 'Goofy', 'Dopey']],\n",
    "})\n",
    "\n",
    "res_df.set_index('Resource', inplace=True)\n",
    "res_list = res_df.index.values\n",
    "\n",
    "print(prod_df)\n",
    "print(res_df)"
   ]
  },
  {
   "cell_type": "code",
   "execution_count": 14,
   "metadata": {},
   "outputs": [
    {
     "name": "stdout",
     "output_type": "stream",
     "text": [
      "\n",
      "Compute Server communication statistics:\n",
      "  Sent: 0.001 MBytes in 8 msgs and 0.85s (0.00 MB/s)\n",
      "  Received: 0.001 MBytes in 4 msgs and 0.40s (0.00 MB/s)\n",
      "\n"
     ]
    }
   ],
   "source": [
    "env = grb.Env.ClientEnv(\"gurobi.log\",\n",
    "                        \"10.116.90.112\")\n",
    "model = grb.Model(\"Marathon\", env)"
   ]
  },
  {
   "cell_type": "markdown",
   "metadata": {},
   "source": [
    "###### What are the decision variables?"
   ]
  },
  {
   "cell_type": "markdown",
   "metadata": {},
   "source": [
    "The number of spots to open up for registration for each product. \n",
    "\n",
    "$x_i$ = number of spots for product $i \\in$ {5K, 10K, Half Marathon, Marathon, Goofy, Dopey}"
   ]
  },
  {
   "cell_type": "code",
   "execution_count": 15,
   "metadata": {},
   "outputs": [],
   "source": [
    "spots = model.addVars(prod_list, lb=0)"
   ]
  },
  {
   "cell_type": "markdown",
   "metadata": {},
   "source": [
    "###### What is the objective?"
   ]
  },
  {
   "cell_type": "markdown",
   "metadata": {},
   "source": [
    "Maxmize revenue.\n",
    "\n",
    "$max_{x_i} \\sum_{i} p_i*x_i$\n",
    "\n",
    "where $p_i$ = price for product $i$."
   ]
  },
  {
   "cell_type": "code",
   "execution_count": 16,
   "metadata": {},
   "outputs": [],
   "source": [
    "exp_rev = grb.quicksum( \n",
    "    spots[prod]*prod_df['Price'][prod] for prod in prod_list )\n",
    "\n",
    "total_exp_rev = model.setObjective(exp_rev, grb.GRB.MAXIMIZE)"
   ]
  },
  {
   "cell_type": "markdown",
   "metadata": {},
   "source": [
    "###### What are the constraints?"
   ]
  },
  {
   "cell_type": "markdown",
   "metadata": {},
   "source": [
    "Constraint: Open up spots equal to or greater than the requested minimum.\n",
    "\n",
    "$x_i \\geq m_i \\; \\forall i$\n",
    "\n",
    "where $m_i$ = minimum number of spots for product $i$."
   ]
  },
  {
   "cell_type": "code",
   "execution_count": 17,
   "metadata": {},
   "outputs": [],
   "source": [
    "min_spot_constraint = model.addConstrs((spots[prod] >= prod_df['Min_Spots'][prod] for prod in prod_list), \n",
    "                                       'min_spot_constraint')"
   ]
  },
  {
   "cell_type": "markdown",
   "metadata": {},
   "source": [
    "The following constraints may seem slightly silly. Our model will assume that demand *exactly equals* estimated demand, which is obviously wrong. However, in practice, it can be quite difficult to accurately model uncertainty in an optimization model, and this assumption is often made in practice. Methods for handling uncertainty, such as robust or stochastic optimization, are outside the scope of this group."
   ]
  },
  {
   "cell_type": "markdown",
   "metadata": {},
   "source": [
    "Constraint: Allow no more spots than capacity will allow.\n",
    "\n",
    "$\\sum_{i \\in S_j} x_i \\leq c_j \\; \\forall j$\n",
    "\n",
    "where $S_j$ are the sets of products that consume resource (race) $j$ and $c_j$ is the capacity for race $j$\n",
    "\n",
    "e.g. $S_{5K}$ = {5K, Dopey}"
   ]
  },
  {
   "cell_type": "code",
   "execution_count": 18,
   "metadata": {},
   "outputs": [],
   "source": [
    "capacity_constraint = model.addConstrs((grb.quicksum(spots[prod] for prod in res_df['Products'][res]) \n",
    "                                        <= res_df['Capacity'][res] for res in res_list), \n",
    "                                       'capacity_constraint')"
   ]
  },
  {
   "cell_type": "markdown",
   "metadata": {},
   "source": [
    "Constraint: Do no open up more spots than demand.\n",
    "\n",
    "According to our previous demand assumption, opening up any more spots is futile, as there will be no further demand. Thus it makes sense to cap number of spots so guests can purchase other products when demand is met.\n",
    "\n",
    "$x_i \\leq d_i \\; \\forall i$\n",
    "\n",
    "where $d_i$ is the demand for product $i$. "
   ]
  },
  {
   "cell_type": "code",
   "execution_count": 19,
   "metadata": {},
   "outputs": [],
   "source": [
    "demand_constraint = model.addConstrs((spots[prod] <= prod_df['Demand'][prod] for prod in prod_list), \n",
    "                                     'demand_constraint')"
   ]
  },
  {
   "cell_type": "markdown",
   "metadata": {},
   "source": [
    "Optimize and generate output."
   ]
  },
  {
   "cell_type": "code",
   "execution_count": 20,
   "metadata": {},
   "outputs": [
    {
     "name": "stdout",
     "output_type": "stream",
     "text": [
      "Gurobi Optimizer version 9.0.2 build v9.0.2rc0 (mac64)\n",
      "Optimize a model with 16 rows, 6 columns and 22 nonzeros\n",
      "Model fingerprint: 0x14bd901b\n",
      "Coefficient statistics:\n",
      "  Matrix range     [1e+00, 1e+00]\n",
      "  Objective range  [8e+01, 6e+02]\n",
      "  Bounds range     [0e+00, 0e+00]\n",
      "  RHS range        [2e+03, 2e+04]\n",
      "Presolve removed 13 rows and 1 columns\n",
      "Presolve time: 0.00s\n",
      "Presolved: 3 rows, 5 columns, 8 nonzeros\n",
      "\n",
      "Iteration    Objective       Primal Inf.    Dual Inf.      Time\n",
      "       0    1.4074885e+07   1.678625e+03   0.000000e+00      0s\n",
      "       2    1.2197500e+07   0.000000e+00   0.000000e+00      0s\n",
      "\n",
      "Solved in 2 iterations and 0.00 seconds\n",
      "Optimal objective  1.219750000e+07\n",
      "          Price  Demand  Min_Spots  opt_spots\n",
      "Product                                      \n",
      "5K           80   15692      10000    11896.0\n",
      "10K         120   11896       7000    11896.0\n",
      "Half        180   18175       5000    17604.0\n",
      "Marathon    190   17604       5000    17604.0\n",
      "Goofy       365    4325       2000     4292.0\n",
      "Dopey       560    5349       2000     3104.0\n"
     ]
    }
   ],
   "source": [
    "model.optimize()\n",
    "\n",
    "# Generate output as a data frame\n",
    "spots_values = model.getAttr('x',spots)\n",
    "prod_df['opt_spots'] = pd.Series(spots_values)\n",
    "\n",
    "print(prod_df)"
   ]
  },
  {
   "cell_type": "code",
   "execution_count": 21,
   "metadata": {},
   "outputs": [
    {
     "name": "stdout",
     "output_type": "stream",
     "text": [
      "\n",
      "Compute Server communication statistics:\n",
      "  Sent: 0.003 MBytes in 18 msgs and 1.79s (0.00 MB/s)\n",
      "  Received: 0.002 MBytes in 6 msgs and 0.53s (0.00 MB/s)\n",
      "\n"
     ]
    }
   ],
   "source": [
    "del model\n",
    "del env"
   ]
  },
  {
   "cell_type": "code",
   "execution_count": null,
   "metadata": {},
   "outputs": [],
   "source": []
  }
 ],
 "metadata": {
  "kernelspec": {
   "display_name": "Python 3 (ipykernel)",
   "language": "python",
   "name": "python3"
  },
  "language_info": {
   "codemirror_mode": {
    "name": "ipython",
    "version": 3
   },
   "file_extension": ".py",
   "mimetype": "text/x-python",
   "name": "python",
   "nbconvert_exporter": "python",
   "pygments_lexer": "ipython3",
   "version": "3.8.13"
  }
 },
 "nbformat": 4,
 "nbformat_minor": 2
}
